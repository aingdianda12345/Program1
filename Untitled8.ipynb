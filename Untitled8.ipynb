{
  "nbformat": 4,
  "nbformat_minor": 0,
  "metadata": {
    "colab": {
      "provenance": [],
      "authorship_tag": "ABX9TyNWZu0tPTMp6fERsGkkH5BS",
      "include_colab_link": true
    },
    "kernelspec": {
      "name": "python3",
      "display_name": "Python 3"
    },
    "language_info": {
      "name": "python"
    }
  },
  "cells": [
    {
      "cell_type": "markdown",
      "metadata": {
        "id": "view-in-github",
        "colab_type": "text"
      },
      "source": [
        "<a href=\"https://colab.research.google.com/github/aingdianda12345/Program1/blob/main/Untitled8.ipynb\" target=\"_parent\"><img src=\"https://colab.research.google.com/assets/colab-badge.svg\" alt=\"Open In Colab\"/></a>"
      ]
    },
    {
      "cell_type": "code",
      "execution_count": null,
      "metadata": {
        "id": "9SNaopbQoF0O"
      },
      "outputs": [],
      "source": [
        "# membuat fungsi\n",
        "def salam()\n",
        "     print(\"hello, selamat pagi\")\n",
        "\n",
        "## pemanggilan fungsi\n",
        "salam()\n",
        "salam()\n",
        "salam()\n"
      ]
    },
    {
      "cell_type": "code",
      "source": [
        "# membuat fungsi\n",
        "def salam(ucapan):\n",
        "  print(ucapan)\n",
        "salam(\"selamat siang\")"
      ],
      "metadata": {
        "colab": {
          "base_uri": "https://localhost:8080/"
        },
        "id": "CrPeZjrMqqjK",
        "outputId": "37e84109-e870-4501-eaa1-6c755c2f0943"
      },
      "execution_count": 15,
      "outputs": [
        {
          "output_type": "stream",
          "name": "stdout",
          "text": [
            "selamat siang\n"
          ]
        }
      ]
    },
    {
      "cell_type": "code",
      "source": [
        "# membuat fungsi dengan parameter\n",
        "def luas_segitiga(alas, tinggi):\n",
        "    luas = (alas * tinggi) / 2\n",
        "    print (\"luas segitiga: %f\" % luas)\n",
        "\n",
        "# pemanggilan fungsi\n",
        "luas_segitiga(4, 6)\n"
      ],
      "metadata": {
        "colab": {
          "base_uri": "https://localhost:8080/"
        },
        "id": "aNFKEgT7q9rd",
        "outputId": "f807b32c-d7dd-4792-9652-a5e43a0354db"
      },
      "execution_count": 16,
      "outputs": [
        {
          "output_type": "stream",
          "name": "stdout",
          "text": [
            "luas segitiga: 12.000000\n"
          ]
        }
      ]
    },
    {
      "cell_type": "code",
      "source": [
        "def luas_persegi(sisi):\n",
        "    luas = sisi * sisi\n",
        "    return luas\n",
        "\n",
        "# pemanggilan fungsi\n",
        "print (\"luas persegi: %d\" % luas_persegi(6))"
      ],
      "metadata": {
        "colab": {
          "base_uri": "https://localhost:8080/"
        },
        "id": "RPWXScZBsZTV",
        "outputId": "6eb155e2-d8ce-4f57-a29d-dd845ebd81f0"
      },
      "execution_count": 18,
      "outputs": [
        {
          "output_type": "stream",
          "name": "stdout",
          "text": [
            "luas persegi: 36\n"
          ]
        }
      ]
    },
    {
      "cell_type": "code",
      "source": [
        "# membuat variable global\n",
        "nama = \"belajar kode\"\n",
        "versi = \"1.0.0\"\n",
        "\n",
        "def help():\n",
        "    # ini variable lokal\n",
        "    nama = \"programanku\"\n",
        "    versi = \"1.0.1\"\n",
        "    # mengakses variable lokal\n",
        "    print (\"nama: %s\" % nama)\n",
        "    print (\"nama: %s\" % versi)\n",
        "\n",
        "# mengakses variable global\n",
        "print (\"nama: %s\" % nama)\n",
        "print (\"nama: %s\" % versi)\n",
        "\n",
        "# memanggil fungsi help()\n",
        "help()\n",
        "\n"
      ],
      "metadata": {
        "colab": {
          "base_uri": "https://localhost:8080/"
        },
        "id": "0qSZn6Mht5XN",
        "outputId": "28bdcd4a-e18a-4c26-b3e1-a2442e5c27b5"
      },
      "execution_count": 20,
      "outputs": [
        {
          "output_type": "stream",
          "name": "stdout",
          "text": [
            "nama: belajar kode\n",
            "nama: 1.0.0\n",
            "nama: programanku\n",
            "nama: 1.0.1\n"
          ]
        }
      ]
    },
    {
      "cell_type": "code",
      "source": [
        "# membuat variable global\n",
        "nama = \"dianda prasetya\"\n",
        "tgl_lhr = \"04\"\n",
        "\n",
        "def help():\n",
        "  # ini variable lokal\n",
        "  hobi = \"futsal\"\n",
        "  jurusan = \"ilkom\"\n",
        "  tempat_tinggal = \"desa terak\"\n",
        "  print (\"hobi: %s\" % hobi)\n",
        "  print (\"jurusan: %s\" % jurusan)\n",
        "  print (\"tempat_tinggal: %s\" % tempat_tinggal)\n",
        "\n",
        "# mengakses variable global\n",
        "print (\"nama: %s\" % nama)\n",
        "print (\"tgl_lhr: %s\" % tgl_lhr)\n",
        "\n",
        "# memanggil fungsi help()\n",
        "help()"
      ],
      "metadata": {
        "colab": {
          "base_uri": "https://localhost:8080/"
        },
        "id": "D_6jIgDsv8j-",
        "outputId": "cb72e703-3dac-4a0e-d858-942c0d63953d"
      },
      "execution_count": 11,
      "outputs": [
        {
          "output_type": "stream",
          "name": "stdout",
          "text": [
            "nama: dianda prasetya\n",
            "tgl_lhr: 04\n",
            "hobi: futsal\n",
            "jurusan: ilkom\n",
            "tempat_tinggal: desa terak\n"
          ]
        }
      ]
    },
    {
      "cell_type": "code",
      "source": [
        "# variable global untuk menyimpan data buku\n",
        "buku = []\n",
        "# fungsi untuk menampilkan semua data\n",
        "def show_data():\n",
        "    if len(buku) <= 0:\n",
        "        print(\"belum ad data\")\n",
        "    else:\n",
        "        for indeks in range(len(buku)):\n",
        "            print(\"[{}]] {}\".format(indeks, buku[indeks]))\n",
        "# fungsi untuk menambahkan data\n",
        "def insert_data():\n",
        "    buku_baru = input(\"judul buku\")\n",
        "    buku.append(buku_baru)\n",
        "# fungsi untuk edit data\n",
        "def edit_data():\n",
        "    show_data()\n",
        "    indeks = int(input(\"inputkan id buku: \"))\n",
        "    if indeks > len(buku):\n",
        "        print(\"id salah\")\n",
        "    else:\n",
        "        judul_baru - input(\"judul baru: \")\n",
        "        buku[indeks] = judul_baru\n",
        "# fungsi untuk menghapus data\n",
        "def delete_data():\n",
        "    show_data()\n",
        "    indeks = int(input(\"inputkan id buku: \"))\n",
        "    if indeks > len(buku):\n",
        "       print(\"id salah\")\n",
        "    else:\n",
        "        buku.remove(buku[indeks])\n",
        "# fungsi untuk menampilkan menu\n",
        "def show_menu():\n",
        "    print(\"\\n\")\n",
        "    print(\"----------- menu -----------\")\n",
        "    print(\"[1] show data\")\n",
        "    print(\"[2] insert into data\")\n",
        "    print(\"[3] edit data\")\n",
        "    print(\"[4] delete data\")\n",
        "    print(\"[5] exit\")\n",
        "\n",
        "menu = input(\"PILIH MENU> \")\n",
        "print(\"\\n\")\n",
        "if int(menu) == 1:\n",
        "    show_data()\n",
        "elif int(menu) == 2:\n",
        "    insert_data()\n",
        "elif int(menu) == 3:\n",
        "    edit_data()\n",
        "elif int(menu) == 4:\n",
        "    delete_data()\n",
        "elif int(menu) == 5:\n",
        "    exit()\n",
        "else:\n",
        "    print(\"salah pilih\")\n",
        "\n",
        "if __name__ == \"__main__\":\n",
        "\n",
        "    while true:\n",
        "        show_menu()"
      ],
      "metadata": {
        "id": "0sp7zT_UyvJP"
      },
      "execution_count": null,
      "outputs": []
    }
  ]
}