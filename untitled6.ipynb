{
  "nbformat": 4,
  "nbformat_minor": 0,
  "metadata": {
    "colab": {
      "provenance": [],
      "authorship_tag": "ABX9TyNLpm1trotaUbEErGkYbTV2",
      "include_colab_link": true
    },
    "kernelspec": {
      "name": "python3",
      "display_name": "Python 3"
    },
    "language_info": {
      "name": "python"
    }
  },
  "cells": [
    {
      "cell_type": "markdown",
      "metadata": {
        "id": "view-in-github",
        "colab_type": "text"
      },
      "source": [
        "<a href=\"https://colab.research.google.com/github/aingdianda12345/Program1/blob/main/untitled6.ipynb\" target=\"_parent\"><img src=\"https://colab.research.google.com/assets/colab-badge.svg\" alt=\"Open In Colab\"/></a>"
      ]
    },
    {
      "cell_type": "code",
      "execution_count": null,
      "metadata": {
        "colab": {
          "base_uri": "https://localhost:8080/"
        },
        "id": "FmYg6pSAJL97",
        "outputId": "df30d2e0-6d45-4a81-c4ab-64824c559336"
      },
      "outputs": [
        {
          "output_type": "stream",
          "name": "stdout",
          "text": [
            "0 jakarta\n",
            "1 surabaya\n",
            "2 depok\n",
            "3 bekasi\n",
            "4 solo\n",
            "5 jogjakarta\n",
            "6 semarang\n",
            "7 makassar\n"
          ]
        }
      ],
      "source": [
        "listkota = ['jakarta','surabaya','depok','bekasi','solo','jogjakarta','semarang','makassar']\n",
        "for i, kota in enumerate(listkota):\n",
        "  print(i, kota)"
      ]
    },
    {
      "cell_type": "code",
      "source": [
        "## 0 sampai 4\n",
        "for i in  range(5):\n",
        "  print(\"perulangan ke -\", i)"
      ],
      "metadata": {
        "colab": {
          "base_uri": "https://localhost:8080/"
        },
        "id": "FPTe1Bz_K-PS",
        "outputId": "5ae32661-b440-4990-c06c-e7f4c9689fd9"
      },
      "execution_count": null,
      "outputs": [
        {
          "output_type": "stream",
          "name": "stdout",
          "text": [
            "perulangan ke - 0\n",
            "perulangan ke - 1\n",
            "perulangan ke - 2\n",
            "perulangan ke - 3\n",
            "perulangan ke - 4\n"
          ]
        }
      ]
    },
    {
      "cell_type": "code",
      "source": [
        "## 10 sampai 15\n",
        "for i in range(10, 16):\n",
        "  print('i =', i)"
      ],
      "metadata": {
        "colab": {
          "base_uri": "https://localhost:8080/"
        },
        "id": "EmAFSB2pLdIL",
        "outputId": "7b3350a5-00de-407b-d460-af41194e5c97"
      },
      "execution_count": null,
      "outputs": [
        {
          "output_type": "stream",
          "name": "stdout",
          "text": [
            "i = 10\n",
            "i = 11\n",
            "i = 12\n",
            "i = 13\n",
            "i = 14\n",
            "i = 15\n"
          ]
        }
      ]
    },
    {
      "cell_type": "code",
      "source": [
        "## bilangan genap kelipatan 2\n",
        "for i in range(2, 12, 2):\n",
        "  print('i =', i)"
      ],
      "metadata": {
        "colab": {
          "base_uri": "https://localhost:8080/"
        },
        "id": "TzBKlGx8L5Bj",
        "outputId": "d68318f6-5214-4d70-c604-9bc650b8177f"
      },
      "execution_count": null,
      "outputs": [
        {
          "output_type": "stream",
          "name": "stdout",
          "text": [
            "i = 2\n",
            "i = 4\n",
            "i = 6\n",
            "i = 8\n",
            "i = 10\n"
          ]
        }
      ]
    },
    {
      "cell_type": "code",
      "source": [
        "## bilangan ganjil kelipatan 2\n",
        "for bilangan_ganjil in range(1, 12, 2):\n",
        "  print(bilangan_ganjil)"
      ],
      "metadata": {
        "colab": {
          "base_uri": "https://localhost:8080/"
        },
        "id": "fQC2wdD4MSaS",
        "outputId": "2c9db3d6-3916-4ee6-c279-717a76c99d9e"
      },
      "execution_count": null,
      "outputs": [
        {
          "output_type": "stream",
          "name": "stdout",
          "text": [
            "1\n",
            "3\n",
            "5\n",
            "7\n",
            "9\n",
            "11\n"
          ]
        }
      ]
    },
    {
      "cell_type": "code",
      "source": [
        "tuplebuah = ('mangga', 'jeruk', 'apel', 'pepaya')\n",
        "for buah in tuplebuah:\n",
        "  print(buah)"
      ],
      "metadata": {
        "colab": {
          "base_uri": "https://localhost:8080/"
        },
        "id": "Qxjdfg0QNSWr",
        "outputId": "36a02866-997e-4e90-dfee-de3a93233a5e"
      },
      "execution_count": null,
      "outputs": [
        {
          "output_type": "stream",
          "name": "stdout",
          "text": [
            "mangga\n",
            "jeruk\n",
            "apel\n",
            "pepaya\n"
          ]
        }
      ]
    },
    {
      "cell_type": "code",
      "source": [
        "for karakter in \"indonesiaid\":\n",
        "  print(karakter)"
      ],
      "metadata": {
        "colab": {
          "base_uri": "https://localhost:8080/"
        },
        "id": "o2xHTHTuN4mE",
        "outputId": "9db46eac-95b5-4ccd-bc75-821f1f25dd9e"
      },
      "execution_count": null,
      "outputs": [
        {
          "output_type": "stream",
          "name": "stdout",
          "text": [
            "i\n",
            "n\n",
            "d\n",
            "o\n",
            "n\n",
            "e\n",
            "s\n",
            "i\n",
            "a\n",
            "i\n",
            "d\n"
          ]
        }
      ]
    },
    {
      "cell_type": "code",
      "source": [
        "for i in range(10, 20):\n",
        "  # skip jika i == 15\n",
        "  if (i == 15):\n",
        "    continue\n",
        "  print(i)"
      ],
      "metadata": {
        "id": "soSBFGBtOWVk",
        "colab": {
          "base_uri": "https://localhost:8080/"
        },
        "outputId": "71193472-f454-44ad-9e60-4ed0ae584d71"
      },
      "execution_count": null,
      "outputs": [
        {
          "output_type": "stream",
          "name": "stdout",
          "text": [
            "10\n",
            "11\n",
            "12\n",
            "13\n",
            "14\n",
            "16\n",
            "17\n",
            "18\n",
            "19\n"
          ]
        }
      ]
    },
    {
      "cell_type": "code",
      "source": [
        "for i in range(10, 20):\n",
        "  # hentikan jika i == 15\n",
        "  if (i == 15):\n",
        "    break\n",
        "  print(i)"
      ],
      "metadata": {
        "colab": {
          "base_uri": "https://localhost:8080/"
        },
        "id": "Izmh4pM-PHek",
        "outputId": "57540901-bef3-477c-ae11-e009f843a0ac"
      },
      "execution_count": null,
      "outputs": [
        {
          "output_type": "stream",
          "name": "stdout",
          "text": [
            "10\n",
            "11\n",
            "12\n",
            "13\n",
            "14\n"
          ]
        }
      ]
    },
    {
      "cell_type": "code",
      "source": [
        "listkota = ['jakarta', 'surabaya', 'depok', 'bekasi', 'solo', 'jogjakarta', 'semarang', 'makssar']\n",
        "\n",
        "for kota in listkota:\n",
        "  print(kota)\n",
        "else:\n",
        "  print('tidak ada lagi item yang tersisa')\n"
      ],
      "metadata": {
        "id": "vlHO9ivNP7yl",
        "colab": {
          "base_uri": "https://localhost:8080/"
        },
        "outputId": "1838f3c9-64c6-4ef0-a2da-055c179f86de"
      },
      "execution_count": null,
      "outputs": [
        {
          "output_type": "stream",
          "name": "stdout",
          "text": [
            "jakarta\n",
            "surabaya\n",
            "depok\n",
            "bekasi\n",
            "solo\n",
            "jogjakarta\n",
            "semarang\n",
            "makssar\n",
            "tidak ada lagi item yang tersisa\n"
          ]
        }
      ]
    },
    {
      "cell_type": "code",
      "source": [
        "listKota = [\n",
        "    'Jakarata','Surabaya','Depok','Bekasi','Solo',\n",
        "    'Jogjakarta','Semarang','Makassar'\n",
        "]\n",
        "\n",
        "kotaYangDicari = input('Ketik nama kota yang mau kamu cari: ')\n",
        "for i, kota in enumerate(listKota):\n",
        "  # kita ubah katanya ke lowercase agar\n",
        "  # menjadi case insensitive\n",
        "  if kota.lower() == kotaYangDicari.lower():\n",
        "    print('kota yang anda cari berada pada indeks', i)\n",
        "    break\n",
        "else:\n",
        "  print('maaf, kota yang anda cari tidak ada')"
      ],
      "metadata": {
        "colab": {
          "base_uri": "https://localhost:8080/"
        },
        "id": "qFrpAjG0ZJD1",
        "outputId": "b3d06e37-2446-4d20-e24a-53ca61c3f84c"
      },
      "execution_count": null,
      "outputs": [
        {
          "output_type": "stream",
          "name": "stdout",
          "text": [
            "Ketik nama kota yang mau kamu cari: pangkal pinang\n",
            "maaf, kota yang anda cari tidak ada\n"
          ]
        }
      ]
    }
  ]
}