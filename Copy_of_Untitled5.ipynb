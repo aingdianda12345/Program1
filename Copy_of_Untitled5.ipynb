{
  "nbformat": 4,
  "nbformat_minor": 0,
  "metadata": {
    "colab": {
      "provenance": [],
      "authorship_tag": "ABX9TyOtXMCpiMBTmMay816LxpxL",
      "include_colab_link": true
    },
    "kernelspec": {
      "name": "python3",
      "display_name": "Python 3"
    },
    "language_info": {
      "name": "python"
    }
  },
  "cells": [
    {
      "cell_type": "markdown",
      "metadata": {
        "id": "view-in-github",
        "colab_type": "text"
      },
      "source": [
        "<a href=\"https://colab.research.google.com/github/aingdianda12345/Program1/blob/main/Copy_of_Untitled5.ipynb\" target=\"_parent\"><img src=\"https://colab.research.google.com/assets/colab-badge.svg\" alt=\"Open In Colab\"/></a>"
      ]
    },
    {
      "cell_type": "code",
      "source": [],
      "metadata": {
        "id": "Jv5pStwRXHnz"
      },
      "execution_count": null,
      "outputs": []
    },
    {
      "cell_type": "code",
      "execution_count": null,
      "metadata": {
        "colab": {
          "base_uri": "https://localhost:8080/"
        },
        "id": "BZIrZut5V5xB",
        "outputId": "af304f5a-09be-44b7-c839-6297e1c8ac01"
      },
      "outputs": [
        {
          "output_type": "stream",
          "name": "stdout",
          "text": [
            "kode program ini akan dieksekusi\n",
            "kode program ini akan selalu dieksekusi karena tidak termasuk pada percobaan\n"
          ]
        }
      ],
      "source": [
        "if True:\n",
        "  print('kode program ini akan dieksekusi')\n",
        "\n",
        "if False:\n",
        "  print('kode program ini tidak akan dieksekusi')\n",
        "print('kode program ini akan selalu dieksekusi karena tidak termasuk pada percobaan')"
      ]
    },
    {
      "cell_type": "code",
      "source": [
        "nilai = int(input('masukkan nilai anda'))\n",
        "print('nilai anda adalah:', nilai, '/A')\n",
        "if nilai >= 90:\n",
        "  print('selamat, anda lulus!')\n",
        "else :\n",
        "  print('maaf, anda tidak lulus.')\n"
      ],
      "metadata": {
        "colab": {
          "base_uri": "https://localhost:8080/"
        },
        "id": "hHeGqVAXD6O8",
        "outputId": "ec8844b4-4ddd-47b1-f98c-b58ab20e39fc"
      },
      "execution_count": null,
      "outputs": [
        {
          "output_type": "stream",
          "name": "stdout",
          "text": [
            "masukkan nilai anda90\n",
            "nilai anda adalah: 90 /A\n",
            "selamat, anda lulus!\n"
          ]
        }
      ]
    },
    {
      "cell_type": "code",
      "source": [
        "nilai = int(input('masukkan nilai anda: '))\n",
        "\n",
        "if nilai >= 90:\n",
        "  print('predikat A')\n",
        "elif nilai >= 80:\n",
        "  print('predikat B')\n",
        "elif nilai >= 60:\n",
        "  print('predikat C')\n",
        "elif nilai >= 40:\n",
        "  print('predikat D')\n",
        "\n",
        "else:\n",
        "  print('predikat E')"
      ],
      "metadata": {
        "colab": {
          "base_uri": "https://localhost:8080/"
        },
        "id": "eq_CsLQeGdve",
        "outputId": "ef387c4a-16b7-48ed-de11-2eba299825f1"
      },
      "execution_count": null,
      "outputs": [
        {
          "output_type": "stream",
          "name": "stdout",
          "text": [
            "masukkan nilai anda: 80\n",
            "predikat B\n"
          ]
        }
      ]
    },
    {
      "cell_type": "code",
      "source": [
        "buah_yang_tersedia = ['jeruk', 'mangga', 'melon']\n",
        "buah_yang_dicari = input('masukkan nama buah dalam huruf kecil')\n",
        "\n",
        "if (buah_yang_dicari in buah_yang_tersedia):\n",
        "  print('buah yang anda cari tersedia!')\n",
        "\n",
        "else:\n",
        "  print('buah yang anda cari tidak tersedia!')"
      ],
      "metadata": {
        "colab": {
          "base_uri": "https://localhost:8080/"
        },
        "id": "THg3r8l8K1BX",
        "outputId": "3ab4e696-8528-4ebf-b1fe-7f23dc4a88bf"
      },
      "execution_count": null,
      "outputs": [
        {
          "output_type": "stream",
          "name": "stdout",
          "text": [
            "masukkan nama buah dalam huruf kecilmelon\n",
            "buah yang anda cari tersedia!\n"
          ]
        }
      ]
    },
    {
      "cell_type": "code",
      "source": [
        "nilai = int(input('masukkan nilai: '))\n",
        "usia = int(input('masukkan usia: '))\n",
        "\n",
        "if nilai >= 75:\n",
        "  if (usia < 15):\n",
        "    print('selamat Dek, kamu lulus!')\n",
        "  else:\n",
        "    print('selamat Kak, kamu lulus!')\n",
        "else:\n",
        "  if (usia < 15):\n",
        "    print('NT, ya dek!')\n",
        "  else :\n",
        "    print;('NT, ya kak!')"
      ],
      "metadata": {
        "colab": {
          "base_uri": "https://localhost:8080/"
        },
        "id": "l6Ko3CCSM7Qq",
        "outputId": "168fabae-d544-4e6b-dcbf-20f62dd34668"
      },
      "execution_count": null,
      "outputs": [
        {
          "output_type": "stream",
          "name": "stdout",
          "text": [
            "masukkan nilai: 76\n",
            "masukkan usia: 15\n",
            "selamat Kak, kamu lulus!\n"
          ]
        }
      ]
    }
  ]
}